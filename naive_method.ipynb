{
 "cells": [
  {
   "cell_type": "code",
   "execution_count": 49,
   "metadata": {},
   "outputs": [],
   "source": [
    "import numpy as np\n",
    "import pickle\n",
    "import pandas as pd\n",
    "from nltk.tokenize import word_tokenize\n",
    "from sklearn import linear_model\n",
    "from sklearn import metrics\n",
    "from sklearn import model_selection\n",
    "from sklearn.feature_extraction.text import CountVectorizer\n",
    "from sklearn.feature_extraction.text import TfidfVectorizer\n",
    "from sklearn.metrics import accuracy_score, f1_score\n",
    "import re"
   ]
  },
  {
   "cell_type": "markdown",
   "metadata": {},
   "source": [
    "# Preprocessing"
   ]
  },
  {
   "cell_type": "code",
   "execution_count": 81,
   "metadata": {},
   "outputs": [],
   "source": [
    "def remove_patterns(text):\n",
    "    text = text.lower()\n",
    "    # Remove hashtags\n",
    "    text = re.sub(r'#\\w+', '', text)\n",
    "    # Remove '<user>'\n",
    "    text = re.sub(r'<user>', '', text)\n",
    "    # Remove '<url>'\n",
    "    text = re.sub(r'<url>', '', text)\n",
    "    # remove number\n",
    "    text = re.sub(r'\\d+', '', text)\n",
    "    return text"
   ]
  },
  {
   "cell_type": "markdown",
   "metadata": {},
   "source": [
    "# Bag of words and logistic regression(BWLR)"
   ]
  },
  {
   "cell_type": "code",
   "execution_count": 82,
   "metadata": {},
   "outputs": [
    {
     "data": {
      "text/html": [
       "<div>\n",
       "<style scoped>\n",
       "    .dataframe tbody tr th:only-of-type {\n",
       "        vertical-align: middle;\n",
       "    }\n",
       "\n",
       "    .dataframe tbody tr th {\n",
       "        vertical-align: top;\n",
       "    }\n",
       "\n",
       "    .dataframe thead th {\n",
       "        text-align: right;\n",
       "    }\n",
       "</style>\n",
       "<table border=\"1\" class=\"dataframe\">\n",
       "  <thead>\n",
       "    <tr style=\"text-align: right;\">\n",
       "      <th></th>\n",
       "      <th>text</th>\n",
       "      <th>sentiment</th>\n",
       "    </tr>\n",
       "  </thead>\n",
       "  <tbody>\n",
       "    <tr>\n",
       "      <th>0</th>\n",
       "      <td>i dunno justin read my mention or not . only ...</td>\n",
       "      <td>1</td>\n",
       "    </tr>\n",
       "    <tr>\n",
       "      <th>1</th>\n",
       "      <td>because your logic is so dumb , i won't even c...</td>\n",
       "      <td>1</td>\n",
       "    </tr>\n",
       "    <tr>\n",
       "      <th>2</th>\n",
       "      <td>\"  just put casper in a box ! \" looved the bat...</td>\n",
       "      <td>1</td>\n",
       "    </tr>\n",
       "    <tr>\n",
       "      <th>3</th>\n",
       "      <td>thanks sir &gt; &gt; don't trip lil mama ... just ...</td>\n",
       "      <td>1</td>\n",
       "    </tr>\n",
       "    <tr>\n",
       "      <th>4</th>\n",
       "      <td>visiting my brother tmr is the bestest birthda...</td>\n",
       "      <td>1</td>\n",
       "    </tr>\n",
       "  </tbody>\n",
       "</table>\n",
       "</div>"
      ],
      "text/plain": [
       "                                                text  sentiment\n",
       "0   i dunno justin read my mention or not . only ...          1\n",
       "1  because your logic is so dumb , i won't even c...          1\n",
       "2  \"  just put casper in a box ! \" looved the bat...          1\n",
       "3    thanks sir > > don't trip lil mama ... just ...          1\n",
       "4  visiting my brother tmr is the bestest birthda...          1"
      ]
     },
     "execution_count": 82,
     "metadata": {},
     "output_type": "execute_result"
    }
   ],
   "source": [
    "pos_path = 'data/twitter-datasets/train_pos.txt'\n",
    "neg_path = 'data/twitter-datasets/train_neg.txt'\n",
    "with open(pos_path, 'r') as f:\n",
    "    pos = f.readlines()\n",
    "pos = [remove_patterns(tweet.rstrip('\\n')) for tweet in pos]\n",
    "with open(neg_path,'r') as f:\n",
    "    neg = f.readlines()\n",
    "neg = [remove_patterns(tweet.rstrip('\\n')) for tweet in neg]\n",
    "pos_df = pd.DataFrame({'text': pos, 'sentiment': 1})\n",
    "neg_df = pd.DataFrame({'text': neg, 'sentiment': -1})\n",
    "df = pd.concat([pos_df, neg_df], axis=0) \n",
    "pos_df.head()"
   ]
  },
  {
   "cell_type": "code",
   "execution_count": 84,
   "metadata": {},
   "outputs": [
    {
     "name": "stderr",
     "output_type": "stream",
     "text": [
      "c:\\Users\\Welkin\\AppData\\Local\\anaconda3\\envs\\ada\\lib\\site-packages\\sklearn\\linear_model\\_logistic.py:460: ConvergenceWarning: lbfgs failed to converge (status=1):\n",
      "STOP: TOTAL NO. of ITERATIONS REACHED LIMIT.\n",
      "\n",
      "Increase the number of iterations (max_iter) or scale the data as shown in:\n",
      "    https://scikit-learn.org/stable/modules/preprocessing.html\n",
      "Please also refer to the documentation for alternative solver options:\n",
      "    https://scikit-learn.org/stable/modules/linear_model.html#logistic-regression\n",
      "  n_iter_i = _check_optimize_result(\n"
     ]
    },
    {
     "name": "stdout",
     "output_type": "stream",
     "text": [
      "Fold: 0\n",
      "Accuracy = 0.82395\n",
      "F1 Score = 0.8290942626929424\n",
      "\n"
     ]
    },
    {
     "name": "stderr",
     "output_type": "stream",
     "text": [
      "c:\\Users\\Welkin\\AppData\\Local\\anaconda3\\envs\\ada\\lib\\site-packages\\sklearn\\linear_model\\_logistic.py:460: ConvergenceWarning: lbfgs failed to converge (status=1):\n",
      "STOP: TOTAL NO. of ITERATIONS REACHED LIMIT.\n",
      "\n",
      "Increase the number of iterations (max_iter) or scale the data as shown in:\n",
      "    https://scikit-learn.org/stable/modules/preprocessing.html\n",
      "Please also refer to the documentation for alternative solver options:\n",
      "    https://scikit-learn.org/stable/modules/linear_model.html#logistic-regression\n",
      "  n_iter_i = _check_optimize_result(\n"
     ]
    },
    {
     "name": "stdout",
     "output_type": "stream",
     "text": [
      "Fold: 1\n",
      "Accuracy = 0.82215\n",
      "F1 Score = 0.828214044238385\n",
      "\n",
      "Fold: 2\n",
      "Accuracy = 0.82725\n",
      "F1 Score = 0.832695753232289\n",
      "\n"
     ]
    },
    {
     "name": "stderr",
     "output_type": "stream",
     "text": [
      "c:\\Users\\Welkin\\AppData\\Local\\anaconda3\\envs\\ada\\lib\\site-packages\\sklearn\\linear_model\\_logistic.py:460: ConvergenceWarning: lbfgs failed to converge (status=1):\n",
      "STOP: TOTAL NO. of ITERATIONS REACHED LIMIT.\n",
      "\n",
      "Increase the number of iterations (max_iter) or scale the data as shown in:\n",
      "    https://scikit-learn.org/stable/modules/preprocessing.html\n",
      "Please also refer to the documentation for alternative solver options:\n",
      "    https://scikit-learn.org/stable/modules/linear_model.html#logistic-regression\n",
      "  n_iter_i = _check_optimize_result(\n"
     ]
    }
   ],
   "source": [
    "if __name__ == \"__main__\": \n",
    "    df[\"kfold\"] = -1\n",
    "    df = df.sample(frac=1).reset_index(drop=True)\n",
    "    y = df.sentiment.values\n",
    "    kf = model_selection.StratifiedKFold(n_splits=5)\n",
    "    for f, (t_, v_) in enumerate(kf.split(X=df, y=y)): \n",
    "        df.loc[v_, 'kfold'] = f\n",
    "\n",
    "    for fold_ in range(3):\n",
    "        train_df = df[df.kfold != fold_].reset_index(drop=True)\n",
    "        test_df = df[df.kfold == fold_].reset_index(drop=True) \n",
    "        count_vec = CountVectorizer( \n",
    "            tokenizer=word_tokenize, \n",
    "            token_pattern=None\n",
    "        )\n",
    "        count_vec.fit(train_df.text)\n",
    "        xtrain = count_vec.transform(train_df.text) \n",
    "        xtest = count_vec.transform(test_df.text)\n",
    "        model = linear_model.LogisticRegression()\n",
    "        model.fit(xtrain, train_df.sentiment)\n",
    "        preds = model.predict(xtest)\n",
    "        accuracy = metrics.accuracy_score(test_df.sentiment, preds)\n",
    "        f1 = f1_score(test_df.sentiment, preds)\n",
    "        print(f\"Fold: {fold_}\")\n",
    "        print(f\"Accuracy = {accuracy}\")\n",
    "        print(f\"F1 Score = {f1}\")\n",
    "        print(\"\")\n",
    "        # # save the model\n",
    "        # if fold_ == 2:\n",
    "        #     with open('naive_lr.pkl', 'wb') as file:\n",
    "        #         pickle.dump(model, file)\n",
    "        #     with open('count_vectorizer.pkl', 'wb') as file:\n",
    "        #         pickle.dump(count_vec, file)\n",
    "\n"
   ]
  },
  {
   "cell_type": "markdown",
   "metadata": {},
   "source": [
    "# create a sbumission"
   ]
  },
  {
   "cell_type": "code",
   "execution_count": null,
   "metadata": {},
   "outputs": [],
   "source": [
    "# load and do the same preprocessing for the test data \n",
    "with open('./data/test_data.txt', 'r') as file:\n",
    "    test_data = file.readlines()\n",
    "test_data = [remove_patterns(tweet.rstrip('\\n')) for tweet in test_data]\n",
    "test_df = pd.DataFrame({'text': test_data})\n",
    "\n",
    "with open('count_vectorizer.pkl', 'rb') as file:\n",
    "    count_vec = pickle.load(file)\n",
    "test = count_vec.transform(test_df.text) \n",
    "\n",
    "# load the model and predict\n",
    "with open('naive_lr.pkl', 'rb') as file:\n",
    "    loaded_model = pickle.load(file)\n",
    "\n",
    "predicted = loaded_model.predict(test)\n",
    "submission = pd.DataFrame({'Id':range(1, len(test_data) + 1),'Prediction': predicted})\n",
    "submission.to_csv('submission.csv', index=False) "
   ]
  },
  {
   "cell_type": "markdown",
   "metadata": {},
   "source": [
    "# TF-IDF with N-gram"
   ]
  },
  {
   "cell_type": "code",
   "execution_count": 85,
   "metadata": {},
   "outputs": [
    {
     "name": "stdout",
     "output_type": "stream",
     "text": [
      "Fold: 0\n",
      "Accuracy = 0.838675\n",
      "\n",
      "Fold: 1\n",
      "Accuracy = 0.8362\n",
      "\n",
      "Fold: 2\n",
      "Accuracy = 0.838325\n",
      "\n"
     ]
    },
    {
     "name": "stderr",
     "output_type": "stream",
     "text": [
      "c:\\Users\\Welkin\\AppData\\Local\\anaconda3\\envs\\ada\\lib\\site-packages\\sklearn\\linear_model\\_logistic.py:460: ConvergenceWarning: lbfgs failed to converge (status=1):\n",
      "STOP: TOTAL NO. of ITERATIONS REACHED LIMIT.\n",
      "\n",
      "Increase the number of iterations (max_iter) or scale the data as shown in:\n",
      "    https://scikit-learn.org/stable/modules/preprocessing.html\n",
      "Please also refer to the documentation for alternative solver options:\n",
      "    https://scikit-learn.org/stable/modules/linear_model.html#logistic-regression\n",
      "  n_iter_i = _check_optimize_result(\n"
     ]
    }
   ],
   "source": [
    "df[\"kfold\"] = -1\n",
    "df = df.sample(frac=1).reset_index(drop=True)\n",
    "y = df.sentiment.values\n",
    "kf = model_selection.StratifiedKFold(n_splits=5)\n",
    "for f, (t_, v_) in enumerate(kf.split(X=df, y=y)): \n",
    "    df.loc[v_, 'kfold'] = f\n",
    "for fold_ in range(3):\n",
    "    train_df = df[df.kfold != fold_].reset_index(drop=True) \n",
    "    test_df = df[df.kfold == fold_].reset_index(drop=True) \n",
    "    tfidf_vec = TfidfVectorizer(\n",
    "        tokenizer=word_tokenize, \n",
    "        token_pattern=None, \n",
    "        ngram_range=(1, 3)\n",
    "    )\n",
    "    tfidf_vec.fit(train_df.text)\n",
    "    xtrain = tfidf_vec.transform(train_df.text) \n",
    "    xtest = tfidf_vec.transform(test_df.text)\n",
    "    model = linear_model.LogisticRegression()\n",
    "    model.fit(xtrain, train_df.sentiment)\n",
    "    preds = model.predict(xtest)\n",
    "    accuracy = metrics.accuracy_score(test_df.sentiment, preds)\n",
    "    print(f\"Fold: {fold_}\")\n",
    "    print(f\"Accuracy = {accuracy}\")\n",
    "    print(\"\")\n",
    "    if fold_ == 0:\n",
    "        with open('tfidf.pkl', 'wb') as file:\n",
    "            pickle.dump(model, file)\n",
    "        with open('tfid.pkl', 'wb') as file:\n",
    "            pickle.dump(tfidf_vec, file)"
   ]
  },
  {
   "cell_type": "code",
   "execution_count": 86,
   "metadata": {},
   "outputs": [],
   "source": [
    "# load and do the same preprocessing for the test data \n",
    "with open('./data/test_data.txt', 'r') as file:\n",
    "    test_data = file.readlines()\n",
    "test_data = [remove_patterns(tweet.rstrip('\\n')) for tweet in test_data]\n",
    "test_df = pd.DataFrame({'text': test_data})\n",
    "\n",
    "with open('tfid.pkl', 'rb') as file:\n",
    "    tfidf_vec = pickle.load(file)\n",
    "test = tfidf_vec.transform(test_df.text) \n",
    "\n",
    "# load the model and predict\n",
    "with open('tfidf.pkl', 'rb') as file:\n",
    "    loaded_model = pickle.load(file)\n",
    "\n",
    "predicted = loaded_model.predict(test)\n",
    "submission = pd.DataFrame({'Id':range(1, len(test_data) + 1),'Prediction': predicted})\n",
    "submission.to_csv('tf_submission.csv', index=False) "
   ]
  },
  {
   "cell_type": "code",
   "execution_count": null,
   "metadata": {},
   "outputs": [],
   "source": []
  }
 ],
 "metadata": {
  "kernelspec": {
   "display_name": "cs433",
   "language": "python",
   "name": "python3"
  },
  "language_info": {
   "codemirror_mode": {
    "name": "ipython",
    "version": 3
   },
   "file_extension": ".py",
   "mimetype": "text/x-python",
   "name": "python",
   "nbconvert_exporter": "python",
   "pygments_lexer": "ipython3",
   "version": "3.9.18"
  }
 },
 "nbformat": 4,
 "nbformat_minor": 2
}
