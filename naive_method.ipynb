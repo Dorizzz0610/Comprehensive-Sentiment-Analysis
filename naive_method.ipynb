{
 "cells": [
  {
   "cell_type": "code",
   "execution_count": 12,
   "metadata": {},
   "outputs": [],
   "source": [
    "import numpy as np\n",
    "import pickle\n",
    "import pandas as pd\n",
    "from nltk.tokenize import word_tokenize\n",
    "from sklearn import linear_model\n",
    "from sklearn import metrics\n",
    "from sklearn import model_selection\n",
    "from sklearn.feature_extraction.text import CountVectorizer\n",
    "from sklearn.feature_extraction.text import TfidfVectorizer\n",
    "from sklearn.ensemble import RandomForestClassifier\n",
    "from sklearn.svm import SVC\n",
    "from sklearn.tree import DecisionTreeClassifier\n",
    "from sklearn.metrics import accuracy_score, f1_score\n",
    "import re"
   ]
  },
  {
   "cell_type": "markdown",
   "metadata": {},
   "source": [
    "# Preprocessing"
   ]
  },
  {
   "cell_type": "code",
   "execution_count": 4,
   "metadata": {},
   "outputs": [],
   "source": [
    "def remove_patterns(text):\n",
    "    text = text.lower()\n",
    "    # Remove hashtags\n",
    "    text = re.sub(r'#\\w+', '', text)\n",
    "    # Remove '<user>'\n",
    "    text = re.sub(r'<user>', '', text)\n",
    "    # Remove '<url>'\n",
    "    text = re.sub(r'<url>', '', text)\n",
    "    # remove number\n",
    "    text = re.sub(r'\\d+', '', text)\n",
    "    return text"
   ]
  },
  {
   "cell_type": "markdown",
   "metadata": {},
   "source": [
    "# List of models to evaluate"
   ]
  },
  {
   "cell_type": "code",
   "execution_count": 16,
   "metadata": {},
   "outputs": [
    {
     "data": {
      "text/plain": [
       "[LogisticRegression(),\n",
       " RandomForestClassifier(),\n",
       " SVC(),\n",
       " DecisionTreeClassifier()]"
      ]
     },
     "execution_count": 16,
     "metadata": {},
     "output_type": "execute_result"
    }
   ],
   "source": [
    "model_1 = linear_model.LogisticRegression()\n",
    "model_2 = RandomForestClassifier()\n",
    "model_3 = SVC()\n",
    "model_4 = DecisionTreeClassifier()\n",
    "\n",
    "# Create a list of models\n",
    "model_list = [model_1, model_2, model_3, model_4]\n",
    "model_list"
   ]
  },
  {
   "cell_type": "markdown",
   "metadata": {},
   "source": [
    "# List of vectorization method"
   ]
  },
  {
   "cell_type": "markdown",
   "metadata": {},
   "source": [
    "# Roc"
   ]
  },
  {
   "cell_type": "code",
   "execution_count": 18,
   "metadata": {},
   "outputs": [],
   "source": [
    "from sklearn.metrics import roc_curve, auc\n",
    "import matplotlib.pyplot as plt\n",
    "\n",
    "def train_model(models,embedding,train_df, test_df):\n",
    "    plt.figure(figsize=(8, 6))\n",
    "    for this_model in models:\n",
    "        vec = embedding\n",
    "        vec.fit(train_df.text)\n",
    "        xtrain = vec.transform(train_df.text) \n",
    "        xtest = vec.transform(test_df.text)\n",
    "        model = this_model\n",
    "        model.fit(xtrain, train_df.sentiment)\n",
    "        preds = model.predict(xtest)\n",
    "        accuracy = metrics.accuracy_score(test_df.sentiment, preds)\n",
    "        f1 = f1_score(test_df.sentiment, preds)\n",
    "        fpr, tpr, thresholds = roc_curve(test_df.sentiment, preds)\n",
    "        roc_auc = auc(fpr, tpr)\n",
    "        plt.plot(fpr, tpr, label=f'{str(this_model)} (AUC = {roc_auc:.2f})')\n",
    "        print(\"model:\",str(this_model))\n",
    "        print(f\"Accuracy = {accuracy}\")\n",
    "        print(f\"F1 Score = {f1}\")\n",
    "        print(\"\")\n",
    "        # # save the model\n",
    "        # with open('naive_lr.pkl', 'wb') as file:\n",
    "        #     pickle.dump(model, file)\n",
    "        # with open('count_vectorizer.pkl', 'wb') as file:\n",
    "        #     pickle.dump(count_vec, file)\n",
    "    plt.plot([0, 1], [0, 1], linestyle='--', color='grey', label='Random')\n",
    "    plt.xlabel('False Positive Rate')\n",
    "    plt.ylabel('True Positive Rate')\n",
    "    plt.title('Receiver Operating Characteristic (ROC) curves')\n",
    "    plt.legend()\n",
    "    plt.show()"
   ]
  },
  {
   "cell_type": "markdown",
   "metadata": {},
   "source": [
    "# Load the data"
   ]
  },
  {
   "cell_type": "code",
   "execution_count": 14,
   "metadata": {},
   "outputs": [],
   "source": [
    "pos_path = 'data/twitter-datasets/train_pos.txt'\n",
    "neg_path = 'data/twitter-datasets/train_neg.txt'\n",
    "with open(pos_path, 'r') as f:\n",
    "    pos = f.readlines()\n",
    "pos = [remove_patterns(tweet.rstrip('\\n')) for tweet in pos]\n",
    "with open(neg_path,'r') as f:\n",
    "    neg = f.readlines()\n",
    "neg = [remove_patterns(tweet.rstrip('\\n')) for tweet in neg]\n",
    "pos_df = pd.DataFrame({'text': pos, 'sentiment': 1})\n",
    "neg_df = pd.DataFrame({'text': neg, 'sentiment': -1})\n",
    "df = pd.concat([pos_df, neg_df], axis=0) \n",
    "shuffled_df = df.sample(frac=1).reset_index(drop=True)"
   ]
  },
  {
   "cell_type": "markdown",
   "metadata": {},
   "source": [
    "# Bags of words"
   ]
  },
  {
   "cell_type": "code",
   "execution_count": 19,
   "metadata": {},
   "outputs": [
    {
     "name": "stderr",
     "output_type": "stream",
     "text": [
      "c:\\Users\\Welkin\\AppData\\Local\\anaconda3\\envs\\ada\\lib\\site-packages\\sklearn\\linear_model\\_logistic.py:460: ConvergenceWarning: lbfgs failed to converge (status=1):\n",
      "STOP: TOTAL NO. of ITERATIONS REACHED LIMIT.\n",
      "\n",
      "Increase the number of iterations (max_iter) or scale the data as shown in:\n",
      "    https://scikit-learn.org/stable/modules/preprocessing.html\n",
      "Please also refer to the documentation for alternative solver options:\n",
      "    https://scikit-learn.org/stable/modules/linear_model.html#logistic-regression\n",
      "  n_iter_i = _check_optimize_result(\n"
     ]
    },
    {
     "name": "stdout",
     "output_type": "stream",
     "text": [
      "Accuracy = 0.821375\n",
      "F1 Score = 0.8271106056573184\n",
      "\n"
     ]
    }
   ],
   "source": [
    "# shuffled_df[\"kfold\"] = -1\n",
    "# kf = model_selection.StratifiedKFold(n_splits=5)\n",
    "# for f, (t_, v_) in enumerate(kf.split(X=shuffled_df, y=y)): \n",
    "#     shuffled_df.loc[v_, 'kfold'] = f\n",
    "y = shuffled_df.sentiment.values\n",
    "\n",
    "train_size = int(len(shuffled_df) * 0.8)\n",
    "train_df = shuffled_df.sample(n=train_size, random_state=42)\n",
    "test_df = shuffled_df.drop(train_df.index)\n",
    "\n",
    "# for this_model in model_list:\n",
    "#     count_vec = CountVectorizer( \n",
    "#         tokenizer=word_tokenize, \n",
    "#         token_pattern=None\n",
    "#     )\n",
    "#     count_vec.fit(train_df.text)\n",
    "#     xtrain = count_vec.transform(train_df.text) \n",
    "#     xtest = count_vec.transform(test_df.text)\n",
    "#     model = model\n",
    "#     model.fit(xtrain, train_df.sentiment)\n",
    "#     preds = model.predict(xtest)\n",
    "#     accuracy = metrics.accuracy_score(test_df.sentiment, preds)\n",
    "#     f1 = f1_score(test_df.sentiment, preds)\n",
    "#     fpr, tpr, thresholds = roc_curve(test_df.sentiment, preds)\n",
    "#     print(f\"Accuracy = {accuracy}\")\n",
    "#     print(f\"F1 Score = {f1}\")\n",
    "#     print(\"\")\n",
    "#     # # save the model\n",
    "#     # with open('naive_lr.pkl', 'wb') as file:\n",
    "#     #     pickle.dump(model, file)\n",
    "#     # with open('count_vectorizer.pkl', 'wb') as file:\n",
    "#     #     pickle.dump(count_vec, file)\n",
    "emb = CountVectorizer( \n",
    "        tokenizer=word_tokenize, \n",
    "        token_pattern=None\n",
    "    )\n",
    "train_model(model_list,emb,train_df,test_df)\n"
   ]
  },
  {
   "cell_type": "markdown",
   "metadata": {},
   "source": [
    "# create a sbumission"
   ]
  },
  {
   "cell_type": "code",
   "execution_count": null,
   "metadata": {},
   "outputs": [],
   "source": [
    "# load and do the same preprocessing for the test data \n",
    "with open('./data/test_data.txt', 'r') as file:\n",
    "    test_data = file.readlines()\n",
    "test_data = [remove_patterns(tweet.rstrip('\\n')) for tweet in test_data]\n",
    "test_df = pd.DataFrame({'text': test_data})\n",
    "\n",
    "with open('count_vectorizer.pkl', 'rb') as file:\n",
    "    count_vec = pickle.load(file)\n",
    "test = count_vec.transform(test_df.text) \n",
    "\n",
    "# load the model and predict\n",
    "with open('naive_lr.pkl', 'rb') as file:\n",
    "    loaded_model = pickle.load(file)\n",
    "\n",
    "predicted = loaded_model.predict(test)\n",
    "submission = pd.DataFrame({'Id':range(1, len(test_data) + 1),'Prediction': predicted})\n",
    "submission.to_csv('submission.csv', index=False) "
   ]
  },
  {
   "cell_type": "markdown",
   "metadata": {},
   "source": [
    "# TF-IDF with N-gram"
   ]
  },
  {
   "cell_type": "code",
   "execution_count": 17,
   "metadata": {},
   "outputs": [
    {
     "name": "stderr",
     "output_type": "stream",
     "text": [
      "c:\\Users\\Welkin\\AppData\\Local\\anaconda3\\envs\\ada\\lib\\site-packages\\sklearn\\linear_model\\_logistic.py:460: ConvergenceWarning: lbfgs failed to converge (status=1):\n",
      "STOP: TOTAL NO. of ITERATIONS REACHED LIMIT.\n",
      "\n",
      "Increase the number of iterations (max_iter) or scale the data as shown in:\n",
      "    https://scikit-learn.org/stable/modules/preprocessing.html\n",
      "Please also refer to the documentation for alternative solver options:\n",
      "    https://scikit-learn.org/stable/modules/linear_model.html#logistic-regression\n",
      "  n_iter_i = _check_optimize_result(\n"
     ]
    },
    {
     "name": "stdout",
     "output_type": "stream",
     "text": [
      "Fold: 0\n",
      "Accuracy = 0.83655\n",
      "\n",
      "Fold: 1\n",
      "Accuracy = 0.8392\n",
      "\n",
      "Fold: 2\n",
      "Accuracy = 0.836175\n",
      "\n"
     ]
    },
    {
     "name": "stderr",
     "output_type": "stream",
     "text": [
      "c:\\Users\\Welkin\\AppData\\Local\\anaconda3\\envs\\ada\\lib\\site-packages\\sklearn\\linear_model\\_logistic.py:460: ConvergenceWarning: lbfgs failed to converge (status=1):\n",
      "STOP: TOTAL NO. of ITERATIONS REACHED LIMIT.\n",
      "\n",
      "Increase the number of iterations (max_iter) or scale the data as shown in:\n",
      "    https://scikit-learn.org/stable/modules/preprocessing.html\n",
      "Please also refer to the documentation for alternative solver options:\n",
      "    https://scikit-learn.org/stable/modules/linear_model.html#logistic-regression\n",
      "  n_iter_i = _check_optimize_result(\n"
     ]
    }
   ],
   "source": [
    "df[\"kfold\"] = -1\n",
    "df = shuffled_df\n",
    "y = df.sentiment.values\n",
    "kf = model_selection.StratifiedKFold(n_splits=5)\n",
    "for f, (t_, v_) in enumerate(kf.split(X=df, y=y)): \n",
    "    df.loc[v_, 'kfold'] = f\n",
    "for fold_ in range(3):\n",
    "    train_df = df[df.kfold != fold_].reset_index(drop=True) \n",
    "    test_df = df[df.kfold == fold_].reset_index(drop=True) \n",
    "    tfidf_vec = TfidfVectorizer(\n",
    "        tokenizer=word_tokenize, \n",
    "        token_pattern=None, \n",
    "        ngram_range=(1, 3)\n",
    "    )\n",
    "    tfidf_vec.fit(train_df.text)\n",
    "    xtrain = tfidf_vec.transform(train_df.text) \n",
    "    xtest = tfidf_vec.transform(test_df.text)\n",
    "    model = linear_model.LogisticRegression()\n",
    "    model.fit(xtrain, train_df.sentiment)\n",
    "    preds = model.predict(xtest)\n",
    "    accuracy = metrics.accuracy_score(test_df.sentiment, preds)\n",
    "    print(f\"Fold: {fold_}\")\n",
    "    print(f\"Accuracy = {accuracy}\")\n",
    "    print(\"\")\n",
    "    if fold_ == 0:\n",
    "        with open('tfidf.pkl', 'wb') as file:\n",
    "            pickle.dump(model, file)\n",
    "        with open('tfid.pkl', 'wb') as file:\n",
    "            pickle.dump(tfidf_vec, file)"
   ]
  },
  {
   "cell_type": "code",
   "execution_count": 86,
   "metadata": {},
   "outputs": [],
   "source": [
    "# load and do the same preprocessing for the test data \n",
    "with open('./data/test_data.txt', 'r') as file:\n",
    "    test_data = file.readlines()\n",
    "test_data = [remove_patterns(tweet.rstrip('\\n')) for tweet in test_data]\n",
    "test_df = pd.DataFrame({'text': test_data})\n",
    "\n",
    "with open('tfid.pkl', 'rb') as file:\n",
    "    tfidf_vec = pickle.load(file)\n",
    "test = tfidf_vec.transform(test_df.text) \n",
    "\n",
    "# load the model and predict\n",
    "with open('tfidf.pkl', 'rb') as file:\n",
    "    loaded_model = pickle.load(file)\n",
    "\n",
    "predicted = loaded_model.predict(test)\n",
    "submission = pd.DataFrame({'Id':range(1, len(test_data) + 1),'Prediction': predicted})\n",
    "submission.to_csv('tf_submission.csv', index=False) "
   ]
  },
  {
   "cell_type": "code",
   "execution_count": null,
   "metadata": {},
   "outputs": [],
   "source": []
  }
 ],
 "metadata": {
  "kernelspec": {
   "display_name": "cs433",
   "language": "python",
   "name": "python3"
  },
  "language_info": {
   "codemirror_mode": {
    "name": "ipython",
    "version": 3
   },
   "file_extension": ".py",
   "mimetype": "text/x-python",
   "name": "python",
   "nbconvert_exporter": "python",
   "pygments_lexer": "ipython3",
   "version": "3.9.18"
  }
 },
 "nbformat": 4,
 "nbformat_minor": 2
}
