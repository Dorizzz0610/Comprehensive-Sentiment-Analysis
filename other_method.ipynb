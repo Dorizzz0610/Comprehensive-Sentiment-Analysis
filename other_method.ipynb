{
 "cells": [
  {
   "cell_type": "code",
   "execution_count": null,
   "metadata": {},
   "outputs": [],
   "source": [
    "import preprocessing\n",
    "import vectorization\n",
    "from sklearn.model_selection import train_test_split\n",
    "from sklearn.metrics import accuracy_score, classification_report\n",
    "from sklearn import linear_model\n",
    "\n",
    "\n",
    "import numpy as np\n",
    "import random\n",
    "import re\n",
    "\n",
    "from sklearn.ensemble import RandomForestClassifier\n",
    "from sklearn.tree import DecisionTreeClassifier\n",
    "from sklearn.metrics import classification_report\n"
   ]
  },
  {
   "cell_type": "code",
   "execution_count": null,
   "metadata": {},
   "outputs": [],
   "source": [
    "def preprocess(text_list):\n",
    "\n",
    "  for text in text_list:\n",
    "    # Remove '<user>'\n",
    "    text = re.sub(r'<user>', '', text)\n",
    "    # Remove '<url>'\n",
    "    text = re.sub(r'<url>', '', text)\n",
    "    # remove numbers\n",
    "    text = re.sub(r'\\d+', '', text)\n",
    "  return text_list"
   ]
  },
  {
   "cell_type": "code",
   "execution_count": null,
   "metadata": {},
   "outputs": [],
   "source": [
    "pos_path = 'data/twitter-datasets/train_pos.txt'\n",
    "neg_path = 'data/twitter-datasets/train_neg.txt'\n",
    "\n",
    "with open(pos_path, 'r') as f:\n",
    "    pos_tweets = f.readlines()\n",
    "with open(neg_path, 'r') as f:\n",
    "    neg_tweets = f.readlines()\n"
   ]
  },
  {
   "cell_type": "code",
   "execution_count": null,
   "metadata": {},
   "outputs": [],
   "source": [
    "pos_labels = [1 for _ in range(len(pos_tweets))]\n",
    "neg_labels = [0 for _ in range(len(neg_tweets))]\n",
    "\n",
    "labels = pos_labels + neg_labels\n",
    "tweets = preprocess(pos_tweets) + preprocess(neg_tweets)\n",
    "\n",
    "tweets = vectorization.tfidf_vectorize(tweets)\n",
    "\n",
    "# Combine labels and tweets into a list of tuples\n",
    "data = list(zip(tweets, labels))\n",
    "\n",
    "# Shuffle the data\n",
    "random.shuffle(data)\n",
    "\n",
    "# Unpack the shuffled data back into separate lists\n",
    "shuffled_tweets, shuffled_labels = zip(*data)\n",
    "\n",
    "# Split the shuffled data into training and validation sets\n",
    "train_tweets, val_tweets, train_labels, val_labels = train_test_split(shuffled_tweets, shuffled_labels, test_size=0.1)"
   ]
  },
  {
   "cell_type": "code",
   "execution_count": null,
   "metadata": {},
   "outputs": [],
   "source": [
    "lr_classifier = linear_model.LogisticRegression()\n",
    "\n",
    "lr_classifier.fit(train_tweets, train_labels)\n",
    "\n",
    "lr_predictions = lr_classifier.predict(val_tweets)\n",
    "\n",
    "print(\"Linear Regression:\")\n",
    "print(classification_report(val_labels, lr_predictions))"
   ]
  },
  {
   "cell_type": "code",
   "execution_count": null,
   "metadata": {},
   "outputs": [],
   "source": [
    "# Initialize the classifiers\n",
    "rf_classifier = RandomForestClassifier()\n",
    "\n",
    "# Train the classifiers\n",
    "rf_classifier.fit(train_tweets, train_labels)\n",
    "\n",
    "# Predict the labels of the validation set\n",
    "rf_predictions = rf_classifier.predict(val_tweets)\n",
    "\n",
    "# Print the classification reports\n",
    "print(\"Random Forest Classifier:\")\n",
    "print(classification_report(val_labels, rf_predictions))"
   ]
  },
  {
   "cell_type": "code",
   "execution_count": null,
   "metadata": {},
   "outputs": [],
   "source": [
    "# Initialize the classifiers\n",
    "dt_classifier = DecisionTreeClassifier()\n",
    "\n",
    "# Train the classifiers\n",
    "dt_classifier.fit(train_tweets, train_labels)\n",
    "\n",
    "# Predict the labels of the validation set\n",
    "dt_predictions = dt_classifier.predict(val_tweets)\n",
    "\n",
    "print(\"Decision Tree Classifier:\")\n",
    "print(classification_report(val_labels, dt_predictions))"
   ]
  }
 ],
 "metadata": {
  "kernelspec": {
   "display_name": "cs433",
   "language": "python",
   "name": "python3"
  },
  "language_info": {
   "codemirror_mode": {
    "name": "ipython",
    "version": 3
   },
   "file_extension": ".py",
   "mimetype": "text/x-python",
   "name": "python",
   "nbconvert_exporter": "python",
   "pygments_lexer": "ipython3",
   "version": "3.9.18"
  }
 },
 "nbformat": 4,
 "nbformat_minor": 2
}
