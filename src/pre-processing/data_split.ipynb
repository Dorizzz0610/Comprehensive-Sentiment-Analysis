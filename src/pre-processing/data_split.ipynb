{
 "cells": [
  {
   "cell_type": "code",
   "execution_count": 1,
   "metadata": {},
   "outputs": [],
   "source": [
    "import pandas as pd\n",
    "import random\n",
    "import re"
   ]
  },
  {
   "cell_type": "code",
   "execution_count": 2,
   "metadata": {},
   "outputs": [],
   "source": [
    "def preprocess(text):\n",
    "    # Remove '<user>'\n",
    "    text = re.sub(r'<user>', '', text)\n",
    "    # Remove '<url>'\n",
    "    text = re.sub(r'<url>', '', text)\n",
    "    # remove numbers\n",
    "    text = re.sub(r'\\d+', '', text)\n",
    "    # remove \\n\n",
    "    text = re.sub(r'\\n', '', text)\n",
    "    # remove beginning and ending spaces\n",
    "    text = text.strip()\n",
    "    return text"
   ]
  },
  {
   "cell_type": "markdown",
   "metadata": {},
   "source": [
    "## Preprocessing for training data"
   ]
  },
  {
   "cell_type": "code",
   "execution_count": 45,
   "metadata": {},
   "outputs": [],
   "source": [
    "pos_path = 'data/twitter-datasets/train_pos_full.txt'\n",
    "neg_path = 'data/twitter-datasets/train_neg_full.txt'\n",
    "\n",
    "with open(pos_path, 'r') as f:\n",
    "    pos_tweets = f.readlines()\n",
    "with open(neg_path, 'r') as f:\n",
    "    neg_tweets = f.readlines()\n",
    "\n",
    "# preprocess data\n",
    "pos_tweets = [preprocess(tweet) for tweet in pos_tweets]\n",
    "neg_tweets = [preprocess(tweet) for tweet in neg_tweets]\n",
    "\n",
    "\n",
    "pos_labels = [1 for _ in range(len(pos_tweets))]\n",
    "neg_labels = [0 for _ in range(len(neg_tweets))]\n",
    "labels = pos_labels + neg_labels\n",
    "tweets = pos_tweets + neg_tweets\n",
    "lengths = [len(tweet) for tweet in tweets]\n",
    "max_length =  min(max(lengths), 200)\n",
    "lengths = [length/max_length for length in lengths]\n",
    "\n",
    "# create dataframe\n",
    "df = pd.DataFrame({'tweet': tweets, 'label': labels, 'length': lengths})\n",
    "# shuffle dataframe\n",
    "df = df.sample(frac=1).reset_index(drop=True)\n",
    "df['fold'] = random.choices(range(1,6), k=len(df))"
   ]
  },
  {
   "cell_type": "code",
   "execution_count": 46,
   "metadata": {},
   "outputs": [
    {
     "data": {
      "text/html": [
       "<div>\n",
       "<style scoped>\n",
       "    .dataframe tbody tr th:only-of-type {\n",
       "        vertical-align: middle;\n",
       "    }\n",
       "\n",
       "    .dataframe tbody tr th {\n",
       "        vertical-align: top;\n",
       "    }\n",
       "\n",
       "    .dataframe thead th {\n",
       "        text-align: right;\n",
       "    }\n",
       "</style>\n",
       "<table border=\"1\" class=\"dataframe\">\n",
       "  <thead>\n",
       "    <tr style=\"text-align: right;\">\n",
       "      <th></th>\n",
       "      <th>tweet</th>\n",
       "      <th>label</th>\n",
       "      <th>length</th>\n",
       "      <th>fold</th>\n",
       "    </tr>\n",
       "  </thead>\n",
       "  <tbody>\n",
       "    <tr>\n",
       "      <th>0</th>\n",
       "      <td>i know but it's hard right now , i'm stressed ...</td>\n",
       "      <td>0</td>\n",
       "      <td>0.265</td>\n",
       "      <td>3</td>\n",
       "    </tr>\n",
       "    <tr>\n",
       "      <th>1</th>\n",
       "      <td>why does it do that ?</td>\n",
       "      <td>0</td>\n",
       "      <td>0.105</td>\n",
       "      <td>3</td>\n",
       "    </tr>\n",
       "    <tr>\n",
       "      <th>2</th>\n",
       "      <td>why did i have to wake up ?</td>\n",
       "      <td>0</td>\n",
       "      <td>0.135</td>\n",
       "      <td>3</td>\n",
       "    </tr>\n",
       "    <tr>\n",
       "      <th>3</th>\n",
       "      <td>true that ! puro vega  ila krn ) ) )</td>\n",
       "      <td>1</td>\n",
       "      <td>0.180</td>\n",
       "      <td>2</td>\n",
       "    </tr>\n",
       "    <tr>\n",
       "      <th>4</th>\n",
       "      <td>you my boo thang</td>\n",
       "      <td>1</td>\n",
       "      <td>0.080</td>\n",
       "      <td>1</td>\n",
       "    </tr>\n",
       "  </tbody>\n",
       "</table>\n",
       "</div>"
      ],
      "text/plain": [
       "                                               tweet  label  length  fold\n",
       "0  i know but it's hard right now , i'm stressed ...      0   0.265     3\n",
       "1                              why does it do that ?      0   0.105     3\n",
       "2                        why did i have to wake up ?      0   0.135     3\n",
       "3               true that ! puro vega  ila krn ) ) )      1   0.180     2\n",
       "4                                   you my boo thang      1   0.080     1"
      ]
     },
     "execution_count": 46,
     "metadata": {},
     "output_type": "execute_result"
    }
   ],
   "source": [
    "df.head()"
   ]
  },
  {
   "cell_type": "code",
   "execution_count": 47,
   "metadata": {},
   "outputs": [
    {
     "data": {
      "text/plain": [
       "fold\n",
       "4    500435\n",
       "5    500382\n",
       "3    499828\n",
       "1    499769\n",
       "2    499586\n",
       "Name: count, dtype: int64"
      ]
     },
     "execution_count": 47,
     "metadata": {},
     "output_type": "execute_result"
    }
   ],
   "source": [
    "df['fold'].value_counts()"
   ]
  },
  {
   "cell_type": "code",
   "execution_count": 48,
   "metadata": {},
   "outputs": [
    {
     "data": {
      "text/plain": [
       "label\n",
       "0    1250000\n",
       "1    1250000\n",
       "Name: count, dtype: int64"
      ]
     },
     "execution_count": 48,
     "metadata": {},
     "output_type": "execute_result"
    }
   ],
   "source": [
    "df['label'].value_counts()"
   ]
  },
  {
   "cell_type": "code",
   "execution_count": 49,
   "metadata": {},
   "outputs": [],
   "source": [
    "df.to_csv('data/train.tsv', sep='\\t', index=False, header=True)"
   ]
  },
  {
   "cell_type": "code",
   "execution_count": 50,
   "metadata": {},
   "outputs": [],
   "source": [
    "# create a sample of the data for testing\n",
    "df_sample = df.sample(frac=0.01).reset_index(drop=True)\n",
    "df_sample.to_csv('data/train_sample.tsv', sep='\\t', index=False, header=True)"
   ]
  },
  {
   "cell_type": "markdown",
   "metadata": {},
   "source": [
    "## Preprocessing for test data"
   ]
  },
  {
   "cell_type": "code",
   "execution_count": 3,
   "metadata": {},
   "outputs": [
    {
     "data": {
      "text/html": [
       "<div>\n",
       "<style scoped>\n",
       "    .dataframe tbody tr th:only-of-type {\n",
       "        vertical-align: middle;\n",
       "    }\n",
       "\n",
       "    .dataframe tbody tr th {\n",
       "        vertical-align: top;\n",
       "    }\n",
       "\n",
       "    .dataframe thead th {\n",
       "        text-align: right;\n",
       "    }\n",
       "</style>\n",
       "<table border=\"1\" class=\"dataframe\">\n",
       "  <thead>\n",
       "    <tr style=\"text-align: right;\">\n",
       "      <th></th>\n",
       "      <th>tweet</th>\n",
       "      <th>length</th>\n",
       "    </tr>\n",
       "  </thead>\n",
       "  <tbody>\n",
       "    <tr>\n",
       "      <th>0</th>\n",
       "      <td>,sea doo pro sea scooter ( sports with the por...</td>\n",
       "      <td>0.768707</td>\n",
       "    </tr>\n",
       "    <tr>\n",
       "      <th>1</th>\n",
       "      <td>, shucks well i work all week so now i can't c...</td>\n",
       "      <td>0.789116</td>\n",
       "    </tr>\n",
       "    <tr>\n",
       "      <th>2</th>\n",
       "      <td>,i cant stay away from bug thats my baby</td>\n",
       "      <td>0.272109</td>\n",
       "    </tr>\n",
       "    <tr>\n",
       "      <th>3</th>\n",
       "      <td>, no ma'am ! ! ! lol im perfectly fine and not...</td>\n",
       "      <td>0.476190</td>\n",
       "    </tr>\n",
       "    <tr>\n",
       "      <th>4</th>\n",
       "      <td>,whenever i fall asleep watching the tv , i al...</td>\n",
       "      <td>0.503401</td>\n",
       "    </tr>\n",
       "  </tbody>\n",
       "</table>\n",
       "</div>"
      ],
      "text/plain": [
       "                                               tweet    length\n",
       "0  ,sea doo pro sea scooter ( sports with the por...  0.768707\n",
       "1  , shucks well i work all week so now i can't c...  0.789116\n",
       "2           ,i cant stay away from bug thats my baby  0.272109\n",
       "3  , no ma'am ! ! ! lol im perfectly fine and not...  0.476190\n",
       "4  ,whenever i fall asleep watching the tv , i al...  0.503401"
      ]
     },
     "metadata": {},
     "output_type": "display_data"
    }
   ],
   "source": [
    "test_path = 'data/twitter-datasets/test_data.txt'\n",
    "with open(test_path, 'r') as f:\n",
    "    test_tweets = f.readlines()\n",
    "test_tweets = [preprocess(tweet) for tweet in test_tweets]\n",
    "test_lengths = [len(tweet) for tweet in test_tweets]\n",
    "test_max_length =  min(max(test_lengths), 200)\n",
    "test_lengths = [length/test_max_length for length in test_lengths]\n",
    "test_df = pd.DataFrame({'tweet': test_tweets, 'length': test_lengths})\n",
    "display(test_df.head())\n",
    "\n",
    "\n",
    "test_df.to_csv('data/test.tsv', sep='\\t', index=False, header=True)"
   ]
  }
 ],
 "metadata": {
  "kernelspec": {
   "display_name": "ML",
   "language": "python",
   "name": "python3"
  },
  "language_info": {
   "codemirror_mode": {
    "name": "ipython",
    "version": 3
   },
   "file_extension": ".py",
   "mimetype": "text/x-python",
   "name": "python",
   "nbconvert_exporter": "python",
   "pygments_lexer": "ipython3",
   "version": "3.11.5"
  }
 },
 "nbformat": 4,
 "nbformat_minor": 2
}
