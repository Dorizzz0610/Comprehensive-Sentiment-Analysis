{
 "cells": [
  {
   "cell_type": "code",
   "execution_count": 13,
   "metadata": {},
   "outputs": [],
   "source": [
    "import numpy as np\n",
    "import pickle"
   ]
  },
  {
   "cell_type": "markdown",
   "metadata": {},
   "source": [
    "### GloVe Embedding "
   ]
  },
  {
   "cell_type": "code",
   "execution_count": 24,
   "metadata": {},
   "outputs": [],
   "source": [
    "!sh src/glove/build_vocab.sh\n",
    "!sh src/glove/cut_vocab.sh"
   ]
  },
  {
   "cell_type": "code",
   "execution_count": 25,
   "metadata": {},
   "outputs": [
    {
     "name": "stdout",
     "output_type": "stream",
     "text": [
      "10000\n",
      "20000\n",
      "30000\n",
      "40000\n",
      "50000\n",
      "60000\n",
      "70000\n",
      "80000\n",
      "90000\n",
      "100000\n",
      "110000\n",
      "120000\n",
      "130000\n",
      "140000\n",
      "150000\n",
      "160000\n",
      "170000\n",
      "180000\n",
      "190000\n",
      "200000\n",
      "summing duplicates (this can take a while)\n",
      "loading cooccurrence matrix\n",
      "8583463 nonzero entries\n",
      "using nmax = 100 , cooc.max() = 207302\n",
      "initializing embeddings\n",
      "epoch 0\n",
      "epoch 1\n",
      "epoch 2\n",
      "epoch 3\n",
      "epoch 4\n",
      "epoch 5\n",
      "epoch 6\n",
      "epoch 7\n",
      "epoch 8\n",
      "epoch 9\n"
     ]
    }
   ],
   "source": [
    "!python src/glove/pickle_vocab.py\n",
    "!python src/glove/cooc.py\n",
    "!python src/glove/glove_solution.py"
   ]
  },
  {
   "cell_type": "code",
   "execution_count": 14,
   "metadata": {},
   "outputs": [],
   "source": [
    "# Load the word embeddings\n",
    "embedding_matrix = np.load('manipulated/glove_embeddings.npy')\n",
    "# Load the vocabulary\n",
    "with open('manipulated/vocab.pkl', 'rb') as f:\n",
    "    vocabulary = pickle.load(f)\n",
    "# Create a dictionary to map words to their embeddings\n",
    "embeddings_dict = {word: embedding_matrix[index] for index, word in enumerate(vocabulary)}"
   ]
  },
  {
   "cell_type": "markdown",
   "metadata": {},
   "source": [
    "### After embedding: Load the tweets into vectors\n"
   ]
  },
  {
   "cell_type": "code",
   "execution_count": 15,
   "metadata": {},
   "outputs": [],
   "source": [
    "### After generating the embeddings using different method\n",
    "\n",
    "def preprocess(tweet):\n",
    "    # Assuming tweets are already tokenized and separated by spaces\n",
    "    return tweet.lower().split()\n",
    "\n",
    "def tweet_to_vector(tweet, embeddings_dict):\n",
    "    words = preprocess(tweet)\n",
    "    word_vectors = [embeddings_dict[word] for word in words if word in embeddings_dict]\n",
    "    \n",
    "    # Handle the case where tweet has no valid words found in embeddings\n",
    "    if not word_vectors:\n",
    "        return np.zeros(next(iter(embeddings_dict.values())).shape)\n",
    "    \n",
    "    # Compute the average vector\n",
    "    tweet_vector = np.mean(word_vectors, axis=0)\n",
    "    return tweet_vector\n",
    "\n",
    "def process_tweets(tweet_path, embeddings_dict):\n",
    "    with open(tweet_path, 'r') as f:\n",
    "        tweets = f.readlines()\n",
    "    tweets = [tweet.rstrip('\\n') for tweet in tweets]\n",
    "    tweet_vectors = np.array([tweet_to_vector(tweet, embeddings_dict) for tweet in tweets])\n",
    "    return tweet_vectors"
   ]
  },
  {
   "cell_type": "code",
   "execution_count": 18,
   "metadata": {},
   "outputs": [
    {
     "name": "stdout",
     "output_type": "stream",
     "text": [
      "(100000, 20)\n",
      "(100000, 20)\n"
     ]
    }
   ],
   "source": [
    "pos_path = 'data/twitter-datasets/train_pos.txt'\n",
    "neg_path = 'data/twitter-datasets/train_neg.txt'\n",
    "\n",
    "\n",
    "pos_vectors = process_tweets(pos_path, embeddings_dict)\n",
    "print(pos_vectors.shape)\n",
    "\n",
    "neg_vectors = process_tweets(neg_path, embeddings_dict)\n",
    "print(neg_vectors.shape)"
   ]
  }
 ],
 "metadata": {
  "kernelspec": {
   "display_name": "cs433",
   "language": "python",
   "name": "python3"
  },
  "language_info": {
   "codemirror_mode": {
    "name": "ipython",
    "version": 3
   },
   "file_extension": ".py",
   "mimetype": "text/x-python",
   "name": "python",
   "nbconvert_exporter": "python",
   "pygments_lexer": "ipython3",
   "version": "3.9.18"
  }
 },
 "nbformat": 4,
 "nbformat_minor": 2
}
