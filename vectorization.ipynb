{
 "cells": [
  {
   "cell_type": "code",
   "execution_count": 1,
   "metadata": {},
   "outputs": [],
   "source": [
    "import numpy as np\n",
    "import pickle"
   ]
  },
  {
   "cell_type": "code",
   "execution_count": 2,
   "metadata": {},
   "outputs": [],
   "source": [
    "pos_path = 'data/twitter-datasets/train_pos.txt'\n",
    "neg_path = 'data/twitter-datasets/train_neg.txt'\n",
    "\n",
    "with open(pos_path, 'r') as f:\n",
    "    pos_tweets = f.readlines()\n",
    "with open(neg_path, 'r') as f:\n",
    "    neg_tweets = f.readlines()"
   ]
  },
  {
   "cell_type": "markdown",
   "metadata": {},
   "source": [
    "### Method 1: GloVe Embedding "
   ]
  },
  {
   "cell_type": "code",
   "execution_count": 1,
   "metadata": {},
   "outputs": [],
   "source": [
    "# !sh src/glove/build_vocab.sh\n",
    "# !sh src/glove/cut_vocab.sh"
   ]
  },
  {
   "cell_type": "code",
   "execution_count": null,
   "metadata": {},
   "outputs": [],
   "source": [
    "# !python src/glove/pickle_vocab.py\n",
    "# !python src/glove/cooc.py\n",
    "# !python src/glove/glove_solution.py"
   ]
  },
  {
   "cell_type": "code",
   "execution_count": 13,
   "metadata": {},
   "outputs": [],
   "source": [
    "# Load the word embeddings\n",
    "embedding_matrix = np.load('manipulated/glove_embeddings.npy')\n",
    "# Load the vocabulary\n",
    "with open('manipulated/vocab.pkl', 'rb') as f:\n",
    "    vocabulary = pickle.load(f)\n",
    "# Create a dictionary to map words to their embeddings\n",
    "embeddings_dict = {word: embedding_matrix[index] for index, word in enumerate(vocabulary)}"
   ]
  },
  {
   "cell_type": "code",
   "execution_count": 14,
   "metadata": {},
   "outputs": [],
   "source": [
    "### After generating the embeddings using different method\n",
    "\n",
    "def preprocess(tweet):\n",
    "    # Assuming tweets are already tokenized and separated by spaces\n",
    "    return tweet.lower().split()\n",
    "\n",
    "def tweet_to_vector(tweet, embeddings_dict):\n",
    "    words = preprocess(tweet)\n",
    "    word_vectors = [embeddings_dict[word] for word in words if word in embeddings_dict]\n",
    "    \n",
    "    # Handle the case where tweet has no valid words found in embeddings\n",
    "    if not word_vectors:\n",
    "        return np.zeros(next(iter(embeddings_dict.values())).shape)\n",
    "    \n",
    "    # Compute the average vector\n",
    "    tweet_vector = np.mean(word_vectors, axis=0)\n",
    "    return tweet_vector\n",
    "\n",
    "def glove(tweets, embeddings_dict):\n",
    "    tweets = [tweet.rstrip('\\n') for tweet in tweets]\n",
    "    tweet_vectors = np.array([tweet_to_vector(tweet, embeddings_dict) for tweet in tweets])\n",
    "    return tweet_vectors"
   ]
  },
  {
   "cell_type": "code",
   "execution_count": 16,
   "metadata": {},
   "outputs": [
    {
     "name": "stdout",
     "output_type": "stream",
     "text": [
      "(100000, 20)\n",
      "(100000, 20)\n"
     ]
    }
   ],
   "source": [
    "\n",
    "pos_vectors_glove = glove(pos_tweets, embeddings_dict)\n",
    "print(pos_vectors_glove.shape)\n",
    "\n",
    "neg_vectors_glove = glove(neg_tweets, embeddings_dict)\n",
    "print(neg_vectors_glove.shape)"
   ]
  },
  {
   "cell_type": "markdown",
   "metadata": {},
   "source": [
    "### Method 2: CountVectorizer"
   ]
  },
  {
   "cell_type": "code",
   "execution_count": null,
   "metadata": {},
   "outputs": [],
   "source": [
    "from nltk.tokenize import TweetTokenizer\n",
    "\n",
    "tweet_tokenizer = TweetTokenizer()\n",
    "def tokenize_tweets(tweet):\n",
    "    return tweet_tokenizer.tokenize(tweet)"
   ]
  },
  {
   "cell_type": "code",
   "execution_count": 20,
   "metadata": {},
   "outputs": [
    {
     "name": "stdout",
     "output_type": "stream",
     "text": [
      "(100000, 56704)\n",
      "(100000, 82191)\n"
     ]
    }
   ],
   "source": [
    "\n",
    "from sklearn.feature_extraction.text import CountVectorizer\n",
    "\n",
    "count_vectorizer = CountVectorizer(tokenizer=tokenize_tweets)\n",
    "\n",
    "pos_vectors_count = count_vectorizer.fit_transform(pos_tweets)\n",
    "pos_vectors_count = pos_vectors_count.toarray() # if lacking memory, delete\n",
    "print(pos_vectors_count.shape)\n",
    "\n",
    "neg_vectors_count = count_vectorizer.fit_transform(neg_tweets)\n",
    "neg_vectors_count = neg_vectors_count.toarray() # if lacking memory, delete\n",
    "print(neg_vectors_count.shape)"
   ]
  },
  {
   "cell_type": "markdown",
   "metadata": {},
   "source": [
    "### Method 3: TfidfVectorizer"
   ]
  },
  {
   "cell_type": "code",
   "execution_count": 21,
   "metadata": {},
   "outputs": [
    {
     "name": "stderr",
     "output_type": "stream",
     "text": [
      "/Users/doris/anaconda3/envs/cs433/lib/python3.9/site-packages/sklearn/feature_extraction/text.py:525: UserWarning: The parameter 'token_pattern' will not be used since 'tokenizer' is not None'\n",
      "  warnings.warn(\n"
     ]
    },
    {
     "name": "stdout",
     "output_type": "stream",
     "text": [
      "(100000, 56704)\n",
      "(100000, 82191)\n"
     ]
    }
   ],
   "source": [
    "from sklearn.feature_extraction.text import TfidfVectorizer\n",
    "\n",
    "tfidf_vectorizer = TfidfVectorizer(tokenizer=tokenize_tweets)\n",
    "\n",
    "pos_vectors_tfidf = tfidf_vectorizer.fit_transform(pos_tweets)\n",
    "pos_vectors_tfidf = pos_vectors_tfidf.toarray() # if lacking memory, delete\n",
    "print(pos_vectors_tfidf.shape)\n",
    "\n",
    "neg_vectors_tfidf = tfidf_vectorizer.fit_transform(neg_tweets)\n",
    "neg_vectors_tfidf = neg_vectors_tfidf.toarray() # if lacking memory, delete\n",
    "print(neg_vectors_tfidf.shape)"
   ]
  },
  {
   "cell_type": "markdown",
   "metadata": {},
   "source": [
    "### Method 4: Pre-trained Word2Vec"
   ]
  },
  {
   "cell_type": "code",
   "execution_count": 7,
   "metadata": {},
   "outputs": [],
   "source": [
    "from gensim.models import Word2Vec\n",
    "from gensim.test.utils import common_texts\n",
    "\n",
    "model_w2v = Word2Vec(common_texts, vector_size=100, window=5, min_count=1, workers=4)\n",
    "model_w2v.train(pos_tweets, total_examples=len(pos_tweets), epochs=10)\n",
    "model_w2v.train(neg_tweets, total_examples=len(neg_tweets), epochs=10)\n",
    "\n",
    "\n",
    "vector_size = 100  # This should match the size of your word vectors\n",
    "default_vector = np.zeros(vector_size)\n",
    "\n",
    "pos_vectors_w2v = np.array([\n",
    "    np.mean(\n",
    "        [model_w2v.wv[word] for word in tweet.split() if word in model_w2v.wv] or [default_vector],\n",
    "        axis=0\n",
    "    )\n",
    "    for tweet in pos_tweets\n",
    "])\n",
    "\n",
    "neg_vectors_w2v = np.array([\n",
    "    np.mean(\n",
    "        [model_w2v.wv[word] for word in tweet.split() if word in model_w2v.wv] or [default_vector],\n",
    "        axis=0\n",
    "    )\n",
    "    for tweet in neg_tweets\n",
    "])\n",
    "\n"
   ]
  }
 ],
 "metadata": {
  "kernelspec": {
   "display_name": "cs433",
   "language": "python",
   "name": "python3"
  },
  "language_info": {
   "codemirror_mode": {
    "name": "ipython",
    "version": 3
   },
   "file_extension": ".py",
   "mimetype": "text/x-python",
   "name": "python",
   "nbconvert_exporter": "python",
   "pygments_lexer": "ipython3",
   "version": "3.9.18"
  }
 },
 "nbformat": 4,
 "nbformat_minor": 2
}
